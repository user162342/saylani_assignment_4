{
 "cells": [
  {
   "cell_type": "code",
   "execution_count": null,
   "metadata": {},
   "outputs": [],
   "source": [
    "# Q1\n",
    "for i in range(1, 11):\n",
    "    print(i)"
   ]
  },
  {
   "cell_type": "code",
   "execution_count": null,
   "metadata": {},
   "outputs": [],
   "source": [
    "# Q2\n",
    "i = 20\n",
    "while i >= 1:\n",
    "    print(i)\n",
    "    i -= 1"
   ]
  },
  {
   "cell_type": "code",
   "execution_count": null,
   "metadata": {},
   "outputs": [],
   "source": [
    "# Q3\n",
    "for i in range(2, 11, 2):\n",
    "    print(i)"
   ]
  },
  {
   "cell_type": "code",
   "execution_count": null,
   "metadata": {},
   "outputs": [],
   "source": [
    "# Q4\n",
    "try:\n",
    "    n = int(input(\"Enter a number n: \"))\n",
    "    if n <= 0:\n",
    "        print(\"Please enter a positive number.\")\n",
    "    else:\n",
    "        for i in range(1, n + 1):\n",
    "            print(i)\n",
    "except ValueError:\n",
    "    print(\"Invalid input. Please enter an integer.\")"
   ]
  },
  {
   "cell_type": "code",
   "execution_count": null,
   "metadata": {},
   "outputs": [],
   "source": [
    "# Q5\n",
    "try:\n",
    "    n = int(input(\"Enter a number n: \"))\n",
    "    if n <= 0:\n",
    "        print(\"Please enter a positive number.\")\n",
    "    else:\n",
    "        for i in range(1, n + 1, 2):\n",
    "            print(i)\n",
    "except ValueError:\n",
    "    print(\"Invalid input. Please enter an integer.\")\n"
   ]
  },
  {
   "cell_type": "code",
   "execution_count": null,
   "metadata": {},
   "outputs": [],
   "source": [
    "# Q6\n",
    "for _ in range(5):\n",
    "    print(\"Happy Birthday!\")\n"
   ]
  },
  {
   "cell_type": "code",
   "execution_count": null,
   "metadata": {},
   "outputs": [],
   "source": [
    "# Q7\n",
    "try:\n",
    "    n = int(input(\"Enter a number: \"))\n",
    "    if n <= 0:\n",
    "        print(\"Please enter a positive number.\")\n",
    "    else:\n",
    "        print(\"The first\", n, \"terms of the series are:\")\n",
    "        for i in range(1, n + 1):\n",
    "            print(i * i, end=\" \")\n",
    "        print()\n",
    "except ValueError:\n",
    "    print(\"Invalid input. Please enter an integer.\")"
   ]
  },
  {
   "cell_type": "code",
   "execution_count": null,
   "metadata": {},
   "outputs": [],
   "source": [
    "# Q8\n",
    "try:\n",
    "    num = int(input(\"Enter a number: \"))\n",
    "    for i in range(1, 11):\n",
    "        print(num, \"x\", i, \"=\", num * i)\n",
    "except ValueError:\n",
    "    print(\"Invalid input. Please enter an integer.\")"
   ]
  },
  {
   "cell_type": "code",
   "execution_count": null,
   "metadata": {},
   "outputs": [],
   "source": [
    "# Q9\n",
    "start = 3\n",
    "diff = 4\n",
    "for i in range(8):\n",
    "    print(start, end=\" \")\n",
    "    start += diff\n",
    "print()"
   ]
  },
  {
   "cell_type": "code",
   "execution_count": null,
   "metadata": {},
   "outputs": [],
   "source": [
    "# Q10\n",
    "start = 2\n",
    "ratio = 3\n",
    "for i in range(6):\n",
    "    print(start, end=\" \")\n",
    "    start *= ratio\n",
    "print()"
   ]
  },
  {
   "cell_type": "code",
   "execution_count": null,
   "metadata": {},
   "outputs": [],
   "source": [
    "# Q11\n",
    "try:\n",
    "    n = int(input(\"Enter a positive integer: \"))\n",
    "    if n <= 0:\n",
    "        print(\"Please enter a positive integer.\")\n",
    "    else:\n",
    "        total = 0\n",
    "        for i in range(1, n + 1):\n",
    "            total += i\n",
    "        print(\"The sum of integers from 1 to\", n, \"is:\", total)\n",
    "except ValueError:\n",
    "    print(\"Invalid input. Please enter an integer.\")# Q12\n",
    "try:\n",
    "    n = int(input(\"Enter a positive integer: \"))\n",
    "    if n <= 0:\n",
    "        print(\"Please enter a positive integer.\")\n",
    "    else:\n",
    "        total = 0\n",
    "        for i in range(1, n + 1):\n",
    "            total += 1 / i\n",
    "        print(\"The sum of reciprocals from 1 to\", n, \"is:\", round(total,2))\n",
    "except ValueError:\n",
    "    print(\"Invalid input. Please enter an integer.\")"
   ]
  },
  {
   "cell_type": "code",
   "execution_count": null,
   "metadata": {},
   "outputs": [],
   "source": [
    "# Q13\n",
    "total = 0\n",
    "for i in range(5):\n",
    "    while True:\n",
    "        try:\n",
    "            num = int(input(\"Enter a number: \"))\n",
    "            total += num\n",
    "            break\n",
    "        except ValueError:\n",
    "            print(\"Invalid input. Please enter a number.\")\n",
    "print(\"The final running total is:\", total)"
   ]
  },
  {
   "cell_type": "code",
   "execution_count": null,
   "metadata": {},
   "outputs": [],
   "source": [
    "# Q14\n",
    "try:\n",
    "    n = int(input(\"Enter a positive integer: \"))\n",
    "    if n < 0:\n",
    "        print(\"Factorial does not exist for negative numbers.\")\n",
    "    elif n == 0:\n",
    "        print(\"The factorial of 0 is 1.\")\n",
    "    else:\n",
    "        factorial = 1\n",
    "        for i in range(1, n + 1):\n",
    "            factorial *= i\n",
    "        print(\"The factorial of\", n, \"is:\", factorial)\n",
    "except ValueError:\n",
    "    print(\"Invalid input. Please enter an integer.\")"
   ]
  },
  {
   "cell_type": "code",
   "execution_count": null,
   "metadata": {},
   "outputs": [],
   "source": [
    "# Q15\n",
    "try:\n",
    "    base = int(input(\"Enter the base: \"))\n",
    "    exponent = int(input(\"Enter the exponent: \"))\n",
    "\n",
    "    if exponent >= 0:\n",
    "        result = 1\n",
    "        for _ in range(exponent):\n",
    "            result *= base\n",
    "        print(base, \"to the power of\", exponent, \"is:\", result)\n",
    "    else:\n",
    "        result = 1\n",
    "        for _ in range(abs(exponent)):\n",
    "            result *= base\n",
    "        print(base, \"to the power of\", exponent, \"is:\", 1 / result)\n",
    "except ValueError:\n",
    "    print(\"Invalid input. Please enter integers.\")"
   ]
  }
 ],
 "metadata": {
  "kernelspec": {
   "display_name": "base",
   "language": "python",
   "name": "python3"
  },
  "language_info": {
   "name": "python",
   "version": "3.12.7"
  }
 },
 "nbformat": 4,
 "nbformat_minor": 2
}
