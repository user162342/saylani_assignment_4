{
 "cells": [
  {
   "cell_type": "code",
   "execution_count": 43,
   "metadata": {},
   "outputs": [
    {
     "name": "stdout",
     "output_type": "stream",
     "text": [
      "number is even\n"
     ]
    }
   ],
   "source": [
    "#Q1\n",
    "try:\n",
    "    userinput = int(input(\"enter a number\"))\n",
    "    if userinput % 2 == 0:\n",
    "        print(\"number is even\")\n",
    "    else:\n",
    "        print(\"number is odd\")\n",
    "except ValueError:\n",
    "    print(\"pls enter a valid value\")"
   ]
  },
  {
   "cell_type": "code",
   "execution_count": 44,
   "metadata": {},
   "outputs": [
    {
     "name": "stdout",
     "output_type": "stream",
     "text": [
      "pls enter a valid value\n"
     ]
    }
   ],
   "source": [
    "#Q2\n",
    "try:\n",
    "    userinput = int(input(\"pls enter your age\"))\n",
    "    if userinput >= 18:\n",
    "        print(\"You are eligible to vote\")\n",
    "    else:\n",
    "        print(\"You are not eligible\")\n",
    "except ValueError:\n",
    "    print(\"pls enter a valid value\")"
   ]
  },
  {
   "cell_type": "code",
   "execution_count": 45,
   "metadata": {},
   "outputs": [
    {
     "name": "stdout",
     "output_type": "stream",
     "text": [
      "invalid literal for int() with base 10: ''\n"
     ]
    }
   ],
   "source": [
    "try:\n",
    "    values = []\n",
    "    for i in range(2):  # Now using 'i' as the loop counter\n",
    "        userinput = int(input(\"pls enter a value: \"))\n",
    "        values.append(userinput)\n",
    "\n",
    "    if values[0] > values[1]:\n",
    "        print(f\"First value {values[0]} is larger\")\n",
    "    elif values[0] < values[1]:\n",
    "        print(f\"Second value {values[1]} is larger\")\n",
    "    else:\n",
    "        print(\"Both values are equal\")\n",
    "\n",
    "except Exception as e:\n",
    "    print(e)"
   ]
  },
  {
   "cell_type": "code",
   "execution_count": 46,
   "metadata": {},
   "outputs": [
    {
     "name": "stdout",
     "output_type": "stream",
     "text": [
      "invalid literal for int() with base 10: ''\n"
     ]
    }
   ],
   "source": [
    "#Q4\n",
    "try:\n",
    "    userinput = int(input(\"enter a number\"))\n",
    "    if userinput > 0:\n",
    "        print(f\"{userinput} is a positive number\")\n",
    "    elif userinput < 0:\n",
    "        print(f\"{userinput} is a negative number\")\n",
    "    else:\n",
    "        print(f\"is 0 {userinput}\")\n",
    "\n",
    "except Exception as e:\n",
    "    print(e)"
   ]
  },
  {
   "cell_type": "code",
   "execution_count": 47,
   "metadata": {},
   "outputs": [
    {
     "name": "stdout",
     "output_type": "stream",
     "text": [
      "Please enter a valid number.\n"
     ]
    }
   ],
   "source": [
    "#Q5\n",
    "try:\n",
    "    userinput = int(input(\"Enter your age: \"))\n",
    "    if 0 < userinput < 13:  \n",
    "        print(\"You are a child\")\n",
    "    elif 13 <= userinput < 20: \n",
    "        print(\"You are a teenager\")\n",
    "    elif 20 <= userinput < 60: \n",
    "        print(\"You are an adult\")\n",
    "    elif userinput >= 60: \n",
    "        print(\"You are a senior\")\n",
    "    else:\n",
    "        print(\"Please enter a valid age.\")\n",
    "except ValueError:\n",
    "    print(\"Please enter a valid number.\")"
   ]
  },
  {
   "cell_type": "code",
   "execution_count": 48,
   "metadata": {},
   "outputs": [
    {
     "name": "stdout",
     "output_type": "stream",
     "text": [
      "Error: Please enter a valid integer.\n"
     ]
    }
   ],
   "source": [
    "#Q6\n",
    "try:\n",
    "    day_number = int(input(\"Enter a number from 1 to 7: \"))\n",
    "    days = [\"Sunday\", \"Monday\", \"Tuesday\", \"Wednesday\", \"Thursday\", \"Friday\", \"Saturday\"]\n",
    "    if 1 <= day_number <= 7:\n",
    "        print(days[day_number-1])  \n",
    "    else:\n",
    "        print(\"Error: Please enter a number between 1 and 7.\")\n",
    "except ValueError:\n",
    "    print(\"Error: Please enter a valid integer.\")"
   ]
  },
  {
   "cell_type": "code",
   "execution_count": 49,
   "metadata": {},
   "outputs": [
    {
     "name": "stdout",
     "output_type": "stream",
     "text": [
      "Invalid input. Please enter numbers for weight and height.\n"
     ]
    }
   ],
   "source": [
    "#Q7\n",
    "try:\n",
    "    weight = float(input(\"Please enter the weight (in kg): \"))\n",
    "    height = float(input(\"Please enter the height (in meters): \"))\n",
    "\n",
    "    if weight <= 0 or height <= 0:\n",
    "      print(\"Please enter valid positive values for weight and height.\")\n",
    "    else:\n",
    "        bmi = weight / (height * height) # Corrected formula\n",
    "        print(\"The BMI is \" + str(bmi))\n",
    "\n",
    "        if bmi < 18.5:\n",
    "            print(\"You are underweight.\")\n",
    "        elif 18.5 <= bmi < 25:\n",
    "            print(\"You have a normal weight.\")\n",
    "        elif 25 <= bmi < 30:\n",
    "            print(\"You are overweight.\")\n",
    "        else:\n",
    "            print(\"You are obese.\")\n",
    "\n",
    "except ValueError:\n",
    "    print(\"Invalid input. Please enter numbers for weight and height.\")"
   ]
  },
  {
   "cell_type": "code",
   "execution_count": 50,
   "metadata": {},
   "outputs": [
    {
     "name": "stdout",
     "output_type": "stream",
     "text": [
      "invalid literal for int() with base 10: ''\n"
     ]
    }
   ],
   "source": [
    "#Q8\n",
    "try:\n",
    "    subject1 = int(input(\"Enter marks for subject 1: \"))\n",
    "    subject2 = int(input(\"Enter marks for subject 2: \"))\n",
    "    subject3 = int(input(\"Enter marks for subject 3: \"))\n",
    "\n",
    "    average = (subject1 + subject2 + subject3) / 3\n",
    "\n",
    "    print(f\"Average Marks: {average:.2f}\")\n",
    "\n",
    "    if 90 <= average <= 100:\n",
    "        print(\"Grade: A\")\n",
    "    elif 80 <= average < 90:\n",
    "        print(\"Grade: B\")\n",
    "    elif 70 <= average < 80:\n",
    "        print(\"Grade: C\")\n",
    "    elif 60 <= average < 70:\n",
    "        print(\"Grade: D\")\n",
    "    else:\n",
    "        print(\"Grade: F\")\n",
    "\n",
    "except Exception as e:\n",
    "    print(e)"
   ]
  },
  {
   "cell_type": "code",
   "execution_count": 2,
   "metadata": {},
   "outputs": [
    {
     "name": "stdout",
     "output_type": "stream",
     "text": [
      "The formula for calculating it is: x = (-b ± √(b² - 4ac)) / 2a\n",
      "The roots of the quadratic equation are: -0.33 and -1.00\n"
     ]
    }
   ],
   "source": [
    "#Q9\n",
    "try:\n",
    "    print(\"The formula for calculating it is: x = (-b ± √(b² - 4ac)) / 2a\")\n",
    "\n",
    "    a = float(input(\"Please enter the value of a: \"))\n",
    "    b = float(input(\"Please enter the value of b: \"))\n",
    "    c = float(input(\"Please enter the value of c: \"))\n",
    "    discriminant = (b ** 2) - (4 * a * c)\n",
    "    root1 = (-b + discriminant ** 0.5) / (2 * a)\n",
    "    root2 = (-b - discriminant ** 0.5) / (2 * a)\n",
    "    print(f\"The roots of the quadratic equation are: {root1:.2f} and {root2:.2f}\")\n",
    "except Exception as e:\n",
    "    print(e)"
   ]
  },
  {
   "cell_type": "code",
   "execution_count": null,
   "metadata": {},
   "outputs": [],
   "source": [
    "#Q10\n",
    "try:\n",
    "    num1 = float(input(\"Enter the first number: \"))\n",
    "    num2 = float(input(\"Enter the second number: \"))\n",
    "    num3 = float(input(\"Enter the third number: \"))\n",
    "\n",
    "    smallest = min(num1, num2, num3)\n",
    "    largest = max(num1, num2, num3)\n",
    "    middle = (((num1 + num2 + num3) - smallest) - largest)\n",
    "\n",
    "    print(smallest, middle, largest)\n",
    "\n",
    "except ValueError:\n",
    "    print(\"Invalid input. Please enter numbers only.\")"
   ]
  },
  {
   "cell_type": "code",
   "execution_count": null,
   "metadata": {},
   "outputs": [
    {
     "name": "stdout",
     "output_type": "stream",
     "text": [
      "Oops! Please enter numbers only.\n"
     ]
    }
   ],
   "source": [
    "#Q11\n",
    "try:\n",
    "    values = []\n",
    "    for i in range(3):\n",
    "        userinput = int(input(f\"Please enter value {i+1}: \"))\n",
    "        values.append(userinput)\n",
    "    largest = values[0]\n",
    "    if values[1] > largest:\n",
    "        largest = values[1]\n",
    "    if values[2] > largest:\n",
    "        largest = values[2]\n",
    "    print(f\"The largest value is: {largest}\")\n",
    "except ValueError:\n",
    "    print(\"Oops! Please enter numbers only.\")\n",
    "except IndexError:\n",
    "    print(\"Make sure to enter 3 values.\")"
   ]
  },
  {
   "cell_type": "code",
   "execution_count": null,
   "metadata": {},
   "outputs": [
    {
     "name": "stdout",
     "output_type": "stream",
     "text": [
      "a this is a vowel\n"
     ]
    }
   ],
   "source": [
    "#Q12\n",
    "try:\n",
    "    character = input(\"Enter a character \")\n",
    "    list = ['a','e','i','o','u']\n",
    "    if character.lower() in list:\n",
    "        print(f\"{character} this is a vowel\")  \n",
    "    else:\n",
    "        print(f\"{character} this is a consonant\")\n",
    "except Exception as e:\n",
    "    print(e)\n"
   ]
  },
  {
   "cell_type": "code",
   "execution_count": 52,
   "metadata": {},
   "outputs": [
    {
     "name": "stdout",
     "output_type": "stream",
     "text": [
      "2012 is a leap year.\n"
     ]
    }
   ],
   "source": [
    "#Q13\n",
    "try:\n",
    "    year = int(input(\"Enter a year: \"))\n",
    "    if year % 4 == 0:\n",
    "        if year % 100 == 0:\n",
    "            if year % 400 == 0:\n",
    "                print(f\"{year} is a leap year.\")\n",
    "            else:\n",
    "                print(f\"{year} is not a leap year.\")\n",
    "        else:\n",
    "            print(f\"{year} is a leap year.\")\n",
    "    else:\n",
    "        print(f\"{year} is not a leap year.\")\n",
    "except ValueError:\n",
    "    print(\"Invalid input. Please enter a valid year (a number).\")"
   ]
  },
  {
   "cell_type": "code",
   "execution_count": 53,
   "metadata": {},
   "outputs": [],
   "source": [
    "#Q14\n",
    "try:\n",
    "    num_calls = int(input(\"Enter the number of calls: \"))\n",
    "    if num_calls < 0:\n",
    "        print(\"Invalid input. Number of calls cannot be negative.\")\n",
    "    else:\n",
    "        bill = 0\n",
    "        if num_calls <= 100:\n",
    "            bill = 200.00\n",
    "        elif num_calls <= 150:\n",
    "            bill = 200.00 + (num_calls - 100) * 0.60\n",
    "        elif num_calls <= 200:\n",
    "            bill = 200.00 + (50 * 0.60) + (num_calls - 150) * 0.50\n",
    "        else:\n",
    "            bill = 200.00 + (50 * 0.60) + (50 * 0.50) + (num_calls - 200) * 0.40\n",
    "        print(f\"The monthly phone bill is: Rs. {bill:.2f}\")\n",
    "except ValueError:\n",
    "    print(\"Invalid input. Please enter a valid number of calls.\")"
   ]
  }
 ],
 "metadata": {
  "kernelspec": {
   "display_name": "base",
   "language": "python",
   "name": "python3"
  },
  "language_info": {
   "codemirror_mode": {
    "name": "ipython",
    "version": 3
   },
   "file_extension": ".py",
   "mimetype": "text/x-python",
   "name": "python",
   "nbconvert_exporter": "python",
   "pygments_lexer": "ipython3",
   "version": "3.12.7"
  }
 },
 "nbformat": 4,
 "nbformat_minor": 2
}
