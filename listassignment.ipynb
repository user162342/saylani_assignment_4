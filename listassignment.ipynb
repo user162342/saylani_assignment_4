{
 "cells": [
  {
   "cell_type": "code",
   "execution_count": 14,
   "metadata": {},
   "outputs": [
    {
     "name": "stdout",
     "output_type": "stream",
     "text": [
      "['as', 'ew', 're']\n"
     ]
    }
   ],
   "source": [
    "#Q1\n",
    "try:\n",
    "    userlist = []\n",
    "    userinput = int(input(\"how many values would you like to enter\"))\n",
    "    for i in range(userinput):\n",
    "        userinput2 = str(input(\"enter the values\"))  \n",
    "        userlist.append(userinput2)  \n",
    "    print(userlist[0::2])\n",
    "\n",
    "except Exception as e:\n",
    "    print(e)"
   ]
  },
  {
   "cell_type": "code",
   "execution_count": 16,
   "metadata": {},
   "outputs": [
    {
     "name": "stdout",
     "output_type": "stream",
     "text": [
      "['1', '2', '3', '4']\n"
     ]
    }
   ],
   "source": [
    "#Q2\n",
    "try:\n",
    "    userlist = []\n",
    "    userinput = int(input(\"how many values would you like to enter\"))\n",
    "    for i in range(userinput):\n",
    "        userinput2 = str(input(\"enter the values\"))  \n",
    "        userlist.append(userinput2)  \n",
    "    print(userlist[::-1])\n",
    "\n",
    "except Exception as e:\n",
    "    print(e)"
   ]
  },
  {
   "cell_type": "code",
   "execution_count": 45,
   "metadata": {},
   "outputs": [
    {
     "name": "stdout",
     "output_type": "stream",
     "text": [
      "invalid literal for int() with base 10: ''\n"
     ]
    }
   ],
   "source": [
    "#Q3\n",
    "try:\n",
    "    num_elements = int(input(\"How many numbers do you want to enter? \"))\n",
    "    if num_elements <= 0:\n",
    "        print(\"Please enter a positive number of elements.\")\n",
    "    else:\n",
    "        num_list = []\n",
    "        for i in range(num_elements):\n",
    "            while True:\n",
    "                try:\n",
    "                    num = int(input(f\"Enter number {i+1}: \"))\n",
    "                    num_list.append(num)\n",
    "                    break\n",
    "                except ValueError:\n",
    "                    print(\"Invalid input. Please enter a number.\")\n",
    "        if not num_list:\n",
    "            print(\"List is empty. Cannot find the largest number.\")\n",
    "        else:\n",
    "            largest = num_list[0]  # Start by assuming the first number is the largest\n",
    "\n",
    "            for num in num_list:  # Look at each number in the list\n",
    "                if num > largest:  # If we find a bigger number\n",
    "                    largest = num  # We've found a new largest number!\n",
    "\n",
    "            print(\"The largest number is:\", largest)\n",
    "\n",
    "except ValueError:\n",
    "    print(\"Invalid input for the number of elements.\")\n",
    "except Exception as e:\n",
    "    print(f\"An unexpected error occurred: {e}\")"
   ]
  },
  {
   "cell_type": "code",
   "execution_count": 19,
   "metadata": {},
   "outputs": [
    {
     "name": "stdout",
     "output_type": "stream",
     "text": [
      "Rotated list: [65, 23, 53, 56, 23]\n"
     ]
    }
   ],
   "source": [
    "try:\n",
    "    num_values = int(input(\"Enter the number of values you would like to add: \"))\n",
    "    my_list = []  # This is the KEY change: list is initialized only ONCE\n",
    "\n",
    "    for i in range(num_values):\n",
    "        user_value = int(input(f\"Enter positive value {i+1}: \"))\n",
    "        my_list.append(user_value)  # Now you're adding to the SAME list\n",
    "\n",
    "    if not my_list: #check if list is empty\n",
    "        print(\"List is empty. Nothing to rotate.\")\n",
    "    elif len(my_list) == 1:\n",
    "        print(\"There is only one value. No rotation needed.\")\n",
    "        print(my_list)\n",
    "    else:\n",
    "        last_item = my_list.pop()\n",
    "        my_list.insert(0, last_item)\n",
    "        print(\"Rotated list:\", my_list)\n",
    "\n",
    "except ValueError:\n",
    "    print(\"Invalid input. Please enter valid numbers.\")\n",
    "except Exception as e:\n",
    "    print(f\"An unexpected error occurred: {e}\")"
   ]
  },
  {
   "cell_type": "code",
   "execution_count": null,
   "metadata": {},
   "outputs": [
    {
     "name": "stdout",
     "output_type": "stream",
     "text": [
      "List has only one element. No rotation needed.\n",
      "[2]\n"
     ]
    }
   ],
   "source": [
    "try:\n",
    "    main_string = input(\"Enter a string: \")\n",
    "    word_to_delete = input(\"Enter the word you want to delete: \")\n",
    "\n",
    "    new_string = main_string.replace(word_to_delete, \"\")\n",
    "    print(\"String after deleting the word:\", new_string)\n",
    "\n",
    "except Exception as e:\n",
    "    print(f\"An unexpected error occurred: {e}\")W"
   ]
  },
  {
   "cell_type": "code",
   "execution_count": 20,
   "metadata": {},
   "outputs": [
    {
     "name": "stdout",
     "output_type": "stream",
     "text": [
      "March 4 , 2024\n"
     ]
    }
   ],
   "source": [
    "#Q6\n",
    "try:\n",
    "    date_str = input(\"Enter a date in mm/dd/yyyy format (e.g., 03/12/2021): \")\n",
    "\n",
    "    month_str, day_str, year_str = date_str.split(\"/\")\n",
    "\n",
    "    month = int(month_str)\n",
    "    day = int(day_str)\n",
    "    year = int(year_str)\n",
    "\n",
    "    months = [\n",
    "        \"January\", \"February\", \"March\", \"April\",\n",
    "        \"May\", \"June\", \"July\", \"August\",\n",
    "        \"September\", \"October\", \"November\", \"December\"\n",
    "    ]\n",
    "\n",
    "    if 1 <= month <= 12 and 1 <= day <= 31 and 1000 <= year <= 9999:\n",
    "        print(months[month - 1], day, \",\", year)\n",
    "    else:\n",
    "        print(\"Invalid date. Please enter a valid date.\")\n",
    "\n",
    "except ValueError:\n",
    "    print(\"Invalid date format. Please use mm/dd/yyyy.\")\n",
    "except IndexError:\n",
    "    print(\"Invalid date format. Please use mm/dd/yyyy.\")\n",
    "except Exception as e:\n",
    "    print(f\"An unexpected error occurred: {e}\")"
   ]
  },
  {
   "cell_type": "code",
   "execution_count": 49,
   "metadata": {},
   "outputs": [
    {
     "name": "stdout",
     "output_type": "stream",
     "text": [
      "Invalid input. Please enter numbers for weight and height.\n"
     ]
    }
   ],
   "source": [
    "#Q7\n",
    "try:\n",
    "    user_input = input(\"Enter a sentence: \")\n",
    "    words = user_input.split()\n",
    "    capitalized_words = []\n",
    "    for word in words:\n",
    "        capitalized_words.append(word.capitalize())\n",
    "    newtext = \" \".join(capitalized_words)\n",
    "    print(newtext)\n",
    "except Exception as e:\n",
    "    print(f\"An unexpected error occurred: {e}\")"
   ]
  },
  {
   "cell_type": "code",
   "execution_count": 50,
   "metadata": {},
   "outputs": [
    {
     "name": "stdout",
     "output_type": "stream",
     "text": [
      "invalid literal for int() with base 10: ''\n"
     ]
    }
   ],
   "source": [
    "try:\n",
    "    num_rows = int(input(\"How many rows in your grid? \"))\n",
    "    num_cols = int(input(\"How many numbers in each row? \"))\n",
    "\n",
    "    if num_rows <= 0 or num_cols <= 0:\n",
    "        print(\"Please enter positive numbers for rows and columns.\")\n",
    "    else:\n",
    "        grid = []\n",
    "        print(\"Enter your grid numbers row by row:\")\n",
    "        for r in range(num_rows):\n",
    "            row = []\n",
    "            for c in range(num_cols):\n",
    "                while True:\n",
    "                    try:\n",
    "                        num = int(input(f\"Row {r+1}, Number {c+1}: \"))\n",
    "                        row.append(num)\n",
    "                        break\n",
    "                    except ValueError:\n",
    "                        print(\"That's not a number. Try again!\")\n",
    "            grid.append(row)\n",
    "\n",
    "        for r in range(num_rows):\n",
    "            row_total = sum(grid[r])\n",
    "            print(f\"Row {r+1} adds up to: {row_total}\")\n",
    "\n",
    "except ValueError:\n",
    "    print(\"Please enter whole numbers for rows and columns.\")\n",
    "except Exception as e:\n",
    "    print(f\"Oops! Something went wrong: {e}\")"
   ]
  },
  {
   "cell_type": "code",
   "execution_count": 2,
   "metadata": {},
   "outputs": [
    {
     "name": "stdout",
     "output_type": "stream",
     "text": [
      "The formula for calculating it is: x = (-b ± √(b² - 4ac)) / 2a\n",
      "The roots of the quadratic equation are: -0.33 and -1.00\n"
     ]
    }
   ],
   "source": [
    "#Q9\n",
    "n = int(input(\"Enter the number of rows: \"))\n",
    "m = int(input(\"Enter the number of columns: \"))\n",
    "matrix1 = []\n",
    "matrix2 = []\n",
    "print(\"Enter the elements of the first matrix:\")\n",
    "for i in range(n):\n",
    "    row = []\n",
    "    for j in range(m):\n",
    "        row.append(int(input()))\n",
    "    matrix1.append(row)\n",
    "print(\"Enter the elements of the second matrix:\")\n",
    "for i in range(n):\n",
    "    row = []\n",
    "    for j in range(m):\n",
    "        row.append(int(input()))\n",
    "    matrix2.append(row)\n",
    "if len(matrix1) != len(matrix2) or len(matrix1[0]) != len(matrix2[0]):\n",
    "    print(\"Matrices have different dimensions. Cannot add.\")\n",
    "else:\n",
    "    result = []\n",
    "    for i in range(n):\n",
    "        row = []\n",
    "        for j in range(m):\n",
    "            row.append(matrix1[i][j] + matrix2[i][j])\n",
    "        result.append(row)\n",
    "    print(\"The sum of the two matrices is:\")\n",
    "    for row in result:\n",
    "        print(row)"
   ]
  },
  {
   "cell_type": "code",
   "execution_count": null,
   "metadata": {},
   "outputs": [],
   "source": [
    "#Q10\n",
    "try:\n",
    "    # Get dimensions of the first matrix\n",
    "    rows1 = int(input(\"Enter number of rows for the first matrix: \"))\n",
    "    cols1 = int(input(\"Enter number of columns for the first matrix: \"))\n",
    "\n",
    "    # Get dimensions of the second matrix\n",
    "    rows2 = int(input(\"Enter number of rows for the second matrix: \"))\n",
    "    cols2 = int(input(\"Enter number of columns for the second matrix: \"))\n",
    "\n",
    "    # Check if multiplication is possible\n",
    "    if cols1 != rows2:\n",
    "        print(\"Matrices cannot be multiplied. Number of columns in the first matrix must equal the number of rows in the second matrix.\")\n",
    "    else:\n",
    "        # Input the first matrix\n",
    "        print(\"Enter elements of the first matrix:\")\n",
    "        matrix1 = []\n",
    "        for i in range(rows1):\n",
    "            row = []\n",
    "            for j in range(cols1):\n",
    "                while True:\n",
    "                    try:\n",
    "                        element = int(input(f\"Enter element at row {i+1}, column {j+1}: \"))\n",
    "                        row.append(element)\n",
    "                        break\n",
    "                    except ValueError:\n",
    "                        print(\"Invalid input. Please enter a number.\")\n",
    "            matrix1.append(row)\n",
    "\n",
    "        # Input the second matrix\n",
    "        print(\"Enter elements of the second matrix:\")\n",
    "        matrix2 = []\n",
    "        for i in range(rows2):\n",
    "            row = []\n",
    "            for j in range(cols2):\n",
    "                while True:\n",
    "                    try:\n",
    "                        element = int(input(f\"Enter element at row {i+1}, column {j+1}: \"))\n",
    "                        row.append(element)\n",
    "                        break\n",
    "                    except ValueError:\n",
    "                        print(\"Invalid input. Please enter a number.\")\n",
    "            matrix2.append(row)\n",
    "\n",
    "        # Multiply the matrices\n",
    "        result_matrix = []\n",
    "        for i in range(rows1):\n",
    "            row = []\n",
    "            for j in range(cols2):\n",
    "                sum = 0\n",
    "                for k in range(cols1): # or rows2 as they are equal\n",
    "                    sum += matrix1[i][k] * matrix2[k][j]\n",
    "                row.append(sum)\n",
    "            result_matrix.append(row)\n",
    "\n",
    "        # Print the result\n",
    "        print(\"Resultant matrix:\")\n",
    "        for row in result_matrix:\n",
    "            print(row)\n",
    "\n",
    "except ValueError:\n",
    "    print(\"Invalid input. Please enter integers for dimensions.\")\n",
    "except Exception as e:\n",
    "    print(f\"An unexpected error occurred: {e}\")"
   ]
  }
 ],
 "metadata": {
  "kernelspec": {
   "display_name": "base",
   "language": "python",
   "name": "python3"
  },
  "language_info": {
   "codemirror_mode": {
    "name": "ipython",
    "version": 3
   },
   "file_extension": ".py",
   "mimetype": "text/x-python",
   "name": "python",
   "nbconvert_exporter": "python",
   "pygments_lexer": "ipython3",
   "version": "3.12.7"
  }
 },
 "nbformat": 4,
 "nbformat_minor": 2
}
