{
 "cells": [
  {
   "cell_type": "code",
   "execution_count": null,
   "metadata": {},
   "outputs": [],
   "source": [
    "# Q1\n",
    "try:\n",
    "    text = input(\"Type in some text: \")\n",
    "    vowels = \"aeiouAEIOU\"\n",
    "    count = 0\n",
    "    for letter in text:\n",
    "        if letter in vowels:\n",
    "            count += 1\n",
    "    print(\"Number of vowels:\", count)\n",
    "except Exception as e:\n",
    "    print(f\"An unexpected error occurred: {e}\")"
   ]
  },
  {
   "cell_type": "code",
   "execution_count": null,
   "metadata": {},
   "outputs": [],
   "source": [
    "#Q2\n",
    "try:\n",
    "    text = input(\"Type in some text: \")\n",
    "    uppercase = 0\n",
    "    lowercase = 0\n",
    "    digits = 0\n",
    "    spaces = 0\n",
    "\n",
    "    for char in text:\n",
    "        if 'A' <= char <= 'Z':\n",
    "            uppercase += 1\n",
    "        elif 'a' <= char <= 'z':\n",
    "            lowercase += 1\n",
    "        elif '0' <= char <= '9':\n",
    "            digits += 1\n",
    "        elif char == ' ':\n",
    "            spaces += 1\n",
    "\n",
    "    print(\"Uppercase:\", uppercase)\n",
    "    print(\"Lowercase:\", lowercase)\n",
    "    print(\"Digits:\", digits)\n",
    "    print(\"Spaces:\", spaces)\n",
    "except Exception as e:\n",
    "    print(f\"An unexpected error occurred: {e}\")"
   ]
  },
  {
   "cell_type": "code",
   "execution_count": null,
   "metadata": {},
   "outputs": [],
   "source": [
    "# Q3\n",
    "try:\n",
    "    text = input(\"Type in some text: \")\n",
    "    if len(text) <= 1:\n",
    "        print(text)\n",
    "    else:\n",
    "        new_text = text[-1] + text[1:-1] + text[0]\n",
    "        print(\"New text:\", new_text)\n",
    "except Exception as e:\n",
    "    print(f\"An unexpected error occurred: {e}\")"
   ]
  },
  {
   "cell_type": "code",
   "execution_count": null,
   "metadata": {},
   "outputs": [],
   "source": [
    "# Q4\n",
    "try:\n",
    "    text = input(\"Type in some text: \")\n",
    "    reversed_text = \"\"\n",
    "    for i in range(len(text) - 1, -1, -1):\n",
    "        reversed_text += text[i]\n",
    "    print(\"Reversed text:\", reversed_text)\n",
    "except Exception as e:\n",
    "    print(f\"An unexpected error occurred: {e}\")"
   ]
  },
  {
   "cell_type": "code",
   "execution_count": null,
   "metadata": {},
   "outputs": [],
   "source": [
    "# Q5\n",
    "try:\n",
    "    text = input(\"Type in some text: \")\n",
    "    if len(text)<=1:\n",
    "        print(text)\n",
    "    else:\n",
    "        new_text = text[1:] + text[0]\n",
    "        print(\"Shifted text:\", new_text)\n",
    "except Exception as e:\n",
    "    print(f\"An unexpected error occurred: {e}\")\n"
   ]
  },
  {
   "cell_type": "code",
   "execution_count": null,
   "metadata": {},
   "outputs": [],
   "source": [
    "# Q6\n",
    "try:\n",
    "    name = input(\"Type your full name (First Middle Last): \")\n",
    "    initials = \"\"\n",
    "    initials += name[0] + \". \"\n",
    "\n",
    "    for i in range(len(name)):\n",
    "        if name[i] == \" \":\n",
    "            initials += name[i + 1] + \". \"\n",
    "\n",
    "    print(initials)\n",
    "except IndexError:\n",
    "    print(\"Please provide first, middle and last name with space in between\")\n",
    "except Exception as e:\n",
    "    print(f\"An unexpected error occurred: {e}\")"
   ]
  },
  {
   "cell_type": "code",
   "execution_count": null,
   "metadata": {},
   "outputs": [],
   "source": [
    "# Q7\n",
    "try:\n",
    "    text = input(\"Type in some text: \")\n",
    "    is_palindrome = True\n",
    "    for i in range(len(text) // 2):\n",
    "        if text[i] != text[len(text) - 1 - i]:\n",
    "            is_palindrome = False\n",
    "            break\n",
    "\n",
    "    if is_palindrome:\n",
    "        print(\"It's a palindrome!\")\n",
    "    else:\n",
    "        print(\"It's not a palindrome.\")\n",
    "except Exception as e:\n",
    "    print(f\"An unexpected error occurred: {e}\")"
   ]
  },
  {
   "cell_type": "code",
   "execution_count": null,
   "metadata": {},
   "outputs": [],
   "source": [
    "# Q8\n",
    "word = \"SHIFT\"\n",
    "for i in range(len(word)):\n",
    "    print(word)\n",
    "    word = word[1:] + word[0]"
   ]
  },
  {
   "cell_type": "code",
   "execution_count": null,
   "metadata": {},
   "outputs": [],
   "source": [
    "# Q9\n",
    "try:\n",
    "    password = input(\"Create a password: \")\n",
    "    if len(password) < 8:\n",
    "        print(\"Password must be at least 8 characters.\")\n",
    "    else:\n",
    "        has_upper = False\n",
    "        has_lower = False\n",
    "        has_digit = False\n",
    "\n",
    "        for char in password:\n",
    "            if 'A' <= char <= 'Z':\n",
    "                has_upper = True\n",
    "            elif 'a' <= char <= 'z':\n",
    "                has_lower = True\n",
    "            elif '0' <= char <= '9':\n",
    "                has_digit = True\n",
    "\n",
    "        if has_upper and has_lower and has_digit:\n",
    "            print(\"Valid password!\")\n",
    "        else:\n",
    "            print(\"Password needs uppercase, lowercase, and a number.\")\n",
    "except Exception as e:\n",
    "    print(f\"An unexpected error occurred: {e}\")"
   ]
  }
 ],
 "metadata": {
  "kernelspec": {
   "display_name": "base",
   "language": "python",
   "name": "python3"
  },
  "language_info": {
   "name": "python",
   "version": "3.12.7"
  }
 },
 "nbformat": 4,
 "nbformat_minor": 2
}
